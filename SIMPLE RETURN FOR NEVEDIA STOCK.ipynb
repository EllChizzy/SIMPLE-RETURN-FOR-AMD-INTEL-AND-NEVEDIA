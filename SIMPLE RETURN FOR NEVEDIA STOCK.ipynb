{
 "cells": [
  {
   "cell_type": "code",
   "execution_count": 1,
   "id": "5dd176fc",
   "metadata": {},
   "outputs": [],
   "source": [
    "import numpy as np\n",
    "import pandas as pd\n",
    "import matplotlib.pyplot as plt"
   ]
  },
  {
   "cell_type": "code",
   "execution_count": 2,
   "id": "99b8adb5",
   "metadata": {},
   "outputs": [],
   "source": [
    "Nved = pd.read_csv(\"C:/Users/Hmz/Downloads/archive (2)/Nvidia.csv\", index_col = 'date')"
   ]
  },
  {
   "cell_type": "code",
   "execution_count": 3,
   "id": "18f79acc",
   "metadata": {},
   "outputs": [
    {
     "data": {
      "text/html": [
       "<div>\n",
       "<style scoped>\n",
       "    .dataframe tbody tr th:only-of-type {\n",
       "        vertical-align: middle;\n",
       "    }\n",
       "\n",
       "    .dataframe tbody tr th {\n",
       "        vertical-align: top;\n",
       "    }\n",
       "\n",
       "    .dataframe thead th {\n",
       "        text-align: right;\n",
       "    }\n",
       "</style>\n",
       "<table border=\"1\" class=\"dataframe\">\n",
       "  <thead>\n",
       "    <tr style=\"text-align: right;\">\n",
       "      <th></th>\n",
       "      <th>open</th>\n",
       "      <th>high</th>\n",
       "      <th>low</th>\n",
       "      <th>close</th>\n",
       "      <th>volume</th>\n",
       "    </tr>\n",
       "    <tr>\n",
       "      <th>date</th>\n",
       "      <th></th>\n",
       "      <th></th>\n",
       "      <th></th>\n",
       "      <th></th>\n",
       "      <th></th>\n",
       "    </tr>\n",
       "  </thead>\n",
       "  <tbody>\n",
       "    <tr>\n",
       "      <th>1999-01-22</th>\n",
       "      <td>0.4023</td>\n",
       "      <td>0.4490</td>\n",
       "      <td>0.3569</td>\n",
       "      <td>0.3772</td>\n",
       "      <td>271468800</td>\n",
       "    </tr>\n",
       "    <tr>\n",
       "      <th>1999-01-25</th>\n",
       "      <td>0.4071</td>\n",
       "      <td>0.4214</td>\n",
       "      <td>0.3772</td>\n",
       "      <td>0.4166</td>\n",
       "      <td>51048000</td>\n",
       "    </tr>\n",
       "    <tr>\n",
       "      <th>1999-01-26</th>\n",
       "      <td>0.4214</td>\n",
       "      <td>0.4299</td>\n",
       "      <td>0.3783</td>\n",
       "      <td>0.3843</td>\n",
       "      <td>34320000</td>\n",
       "    </tr>\n",
       "    <tr>\n",
       "      <th>1999-01-27</th>\n",
       "      <td>0.3856</td>\n",
       "      <td>0.3952</td>\n",
       "      <td>0.3640</td>\n",
       "      <td>0.3831</td>\n",
       "      <td>24436800</td>\n",
       "    </tr>\n",
       "    <tr>\n",
       "      <th>1999-01-28</th>\n",
       "      <td>0.3831</td>\n",
       "      <td>0.3856</td>\n",
       "      <td>0.3795</td>\n",
       "      <td>0.3820</td>\n",
       "      <td>22752000</td>\n",
       "    </tr>\n",
       "  </tbody>\n",
       "</table>\n",
       "</div>"
      ],
      "text/plain": [
       "              open    high     low   close     volume\n",
       "date                                                 \n",
       "1999-01-22  0.4023  0.4490  0.3569  0.3772  271468800\n",
       "1999-01-25  0.4071  0.4214  0.3772  0.4166   51048000\n",
       "1999-01-26  0.4214  0.4299  0.3783  0.3843   34320000\n",
       "1999-01-27  0.3856  0.3952  0.3640  0.3831   24436800\n",
       "1999-01-28  0.3831  0.3856  0.3795  0.3820   22752000"
      ]
     },
     "execution_count": 3,
     "metadata": {},
     "output_type": "execute_result"
    }
   ],
   "source": [
    "Nved.head()"
   ]
  },
  {
   "cell_type": "code",
   "execution_count": 4,
   "id": "0dcc9878",
   "metadata": {},
   "outputs": [
    {
     "data": {
      "text/html": [
       "<div>\n",
       "<style scoped>\n",
       "    .dataframe tbody tr th:only-of-type {\n",
       "        vertical-align: middle;\n",
       "    }\n",
       "\n",
       "    .dataframe tbody tr th {\n",
       "        vertical-align: top;\n",
       "    }\n",
       "\n",
       "    .dataframe thead th {\n",
       "        text-align: right;\n",
       "    }\n",
       "</style>\n",
       "<table border=\"1\" class=\"dataframe\">\n",
       "  <thead>\n",
       "    <tr style=\"text-align: right;\">\n",
       "      <th></th>\n",
       "      <th>open</th>\n",
       "      <th>high</th>\n",
       "      <th>low</th>\n",
       "      <th>close</th>\n",
       "      <th>volume</th>\n",
       "    </tr>\n",
       "    <tr>\n",
       "      <th>date</th>\n",
       "      <th></th>\n",
       "      <th></th>\n",
       "      <th></th>\n",
       "      <th></th>\n",
       "      <th></th>\n",
       "    </tr>\n",
       "  </thead>\n",
       "  <tbody>\n",
       "    <tr>\n",
       "      <th>2022-05-02</th>\n",
       "      <td>185.405</td>\n",
       "      <td>195.74</td>\n",
       "      <td>183.91</td>\n",
       "      <td>195.33</td>\n",
       "      <td>56638454</td>\n",
       "    </tr>\n",
       "    <tr>\n",
       "      <th>2022-05-03</th>\n",
       "      <td>194.000</td>\n",
       "      <td>198.25</td>\n",
       "      <td>191.33</td>\n",
       "      <td>196.02</td>\n",
       "      <td>46811668</td>\n",
       "    </tr>\n",
       "    <tr>\n",
       "      <th>2022-05-04</th>\n",
       "      <td>199.230</td>\n",
       "      <td>204.00</td>\n",
       "      <td>187.51</td>\n",
       "      <td>203.34</td>\n",
       "      <td>64630503</td>\n",
       "    </tr>\n",
       "    <tr>\n",
       "      <th>2022-05-05</th>\n",
       "      <td>198.670</td>\n",
       "      <td>199.25</td>\n",
       "      <td>185.00</td>\n",
       "      <td>188.44</td>\n",
       "      <td>62396169</td>\n",
       "    </tr>\n",
       "    <tr>\n",
       "      <th>2022-05-06</th>\n",
       "      <td>187.360</td>\n",
       "      <td>195.12</td>\n",
       "      <td>179.90</td>\n",
       "      <td>186.75</td>\n",
       "      <td>62693924</td>\n",
       "    </tr>\n",
       "  </tbody>\n",
       "</table>\n",
       "</div>"
      ],
      "text/plain": [
       "               open    high     low   close    volume\n",
       "date                                                 \n",
       "2022-05-02  185.405  195.74  183.91  195.33  56638454\n",
       "2022-05-03  194.000  198.25  191.33  196.02  46811668\n",
       "2022-05-04  199.230  204.00  187.51  203.34  64630503\n",
       "2022-05-05  198.670  199.25  185.00  188.44  62396169\n",
       "2022-05-06  187.360  195.12  179.90  186.75  62693924"
      ]
     },
     "execution_count": 4,
     "metadata": {},
     "output_type": "execute_result"
    }
   ],
   "source": [
    "Nved.tail()\n"
   ]
  },
  {
   "cell_type": "markdown",
   "id": "cea6f283",
   "metadata": {},
   "source": [
    "### Simple Rate of Return "
   ]
  },
  {
   "cell_type": "markdown",
   "id": "ff75653e",
   "metadata": {},
   "source": [
    "Return\n",
    "$$\n",
    "\\frac{P_1 - P_0}{P_0} = \\frac{P_1}{P_0} - 1\n",
    "$$\n"
   ]
  },
  {
   "cell_type": "code",
   "execution_count": 6,
   "id": "cd4aa4da",
   "metadata": {},
   "outputs": [
    {
     "name": "stdout",
     "output_type": "stream",
     "text": [
      "date\n",
      "1999-01-22         NaN\n",
      "1999-01-25    0.104454\n",
      "1999-01-26   -0.077532\n",
      "1999-01-27   -0.003123\n",
      "1999-01-28   -0.002871\n",
      "                ...   \n",
      "2022-05-02    0.053162\n",
      "2022-05-03    0.003532\n",
      "2022-05-04    0.037343\n",
      "2022-05-05   -0.073276\n",
      "2022-05-06   -0.008968\n",
      "Name: simple_return, Length: 5862, dtype: float64\n"
     ]
    }
   ],
   "source": [
    "Nved['simple_return'] = (Nved['close']/ Nved['close'].shift(1) - 1)\n",
    "print(Nved['simple_return'])"
   ]
  },
  {
   "cell_type": "code",
   "execution_count": 7,
   "id": "07f1d2fd",
   "metadata": {},
   "outputs": [
    {
     "name": "stderr",
     "output_type": "stream",
     "text": [
      "C:\\ProgramData\\Anaconda3\\lib\\site-packages\\pandas\\plotting\\_matplotlib\\core.py:1192: UserWarning: FixedFormatter should only be used together with FixedLocator\n",
      "  ax.set_xticklabels(xticklabels)\n"
     ]
    },
    {
     "data": {
      "image/png": "[encoded data removed]",
      "text/plain": [
       "<Figure size 576x360 with 1 Axes>"
      ]
     },
     "metadata": {
      "needs_background": "light"
     },
     "output_type": "display_data"
    }
   ],
   "source": [
    "Nved['simple_return'].plot(figsize=(8, 5))\n",
    "plt.show()"
   ]
  },
  {
   "cell_type": "code",
   "execution_count": 8,
   "id": "99fa0a8e",
   "metadata": {},
   "outputs": [
    {
     "data": {
      "text/plain": [
       "0.0017847642346063214"
      ]
     },
     "execution_count": 8,
     "metadata": {},
     "output_type": "execute_result"
    }
   ],
   "source": [
    "avg_returns_d = Nved['simple_return'].mean()\n",
    "avg_returns_d"
   ]
  },
  {
   "cell_type": "code",
   "execution_count": 9,
   "id": "a92adba1",
   "metadata": {},
   "outputs": [
    {
     "data": {
      "text/plain": [
       "0.4461910586515804"
      ]
     },
     "execution_count": 9,
     "metadata": {},
     "output_type": "execute_result"
    }
   ],
   "source": [
    "avg_returns_a = Nved['simple_return'].mean() * 250\n",
    "avg_returns_a"
   ]
  },
  {
   "cell_type": "code",
   "execution_count": 10,
   "id": "8f748606",
   "metadata": {},
   "outputs": [
    {
     "name": "stdout",
     "output_type": "stream",
     "text": [
      "44.619 %\n"
     ]
    }
   ],
   "source": [
    "print(str(round(avg_returns_a, 5) * 100) + ' %')"
   ]
  },
  {
   "cell_type": "code",
   "execution_count": null,
   "id": "9423d172",
   "metadata": {},
   "outputs": [],
   "source": []
  }
 ],
 "metadata": {
  "kernelspec": {
   "display_name": "Python 3",
   "language": "python",
   "name": "python3"
  },
  "language_info": {
   "codemirror_mode": {
    "name": "ipython",
    "version": 3
   },
   "file_extension": ".py",
   "mimetype": "text/x-python",
   "name": "python",
   "nbconvert_exporter": "python",
   "pygments_lexer": "ipython3",
   "version": "3.8.8"
  }
 },
 "nbformat": 4,
 "nbformat_minor": 5
}
