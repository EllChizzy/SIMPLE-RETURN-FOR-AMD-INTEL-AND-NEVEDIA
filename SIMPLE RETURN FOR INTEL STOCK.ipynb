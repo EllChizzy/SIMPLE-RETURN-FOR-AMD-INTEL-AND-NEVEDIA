{
 "cells": [
  {
   "cell_type": "code",
   "execution_count": 1,
   "id": "5dd176fc",
   "metadata": {},
   "outputs": [],
   "source": [
    "import numpy as np\n",
    "import pandas as pd\n",
    "import matplotlib.pyplot as plt"
   ]
  },
  {
   "cell_type": "code",
   "execution_count": 2,
   "id": "99b8adb5",
   "metadata": {},
   "outputs": [],
   "source": [
    "INTEL = pd.read_csv(\"C:/Users/Hmz/Downloads/archive (2)/Intel.csv\", index_col = 'date')"
   ]
  },
  {
   "cell_type": "code",
   "execution_count": 3,
   "id": "18f79acc",
   "metadata": {},
   "outputs": [
    {
     "data": {
      "text/html": [
       "<div>\n",
       "<style scoped>\n",
       "    .dataframe tbody tr th:only-of-type {\n",
       "        vertical-align: middle;\n",
       "    }\n",
       "\n",
       "    .dataframe tbody tr th {\n",
       "        vertical-align: top;\n",
       "    }\n",
       "\n",
       "    .dataframe thead th {\n",
       "        text-align: right;\n",
       "    }\n",
       "</style>\n",
       "<table border=\"1\" class=\"dataframe\">\n",
       "  <thead>\n",
       "    <tr style=\"text-align: right;\">\n",
       "      <th></th>\n",
       "      <th>open</th>\n",
       "      <th>high</th>\n",
       "      <th>low</th>\n",
       "      <th>close</th>\n",
       "      <th>volume</th>\n",
       "    </tr>\n",
       "    <tr>\n",
       "      <th>date</th>\n",
       "      <th></th>\n",
       "      <th></th>\n",
       "      <th></th>\n",
       "      <th></th>\n",
       "      <th></th>\n",
       "    </tr>\n",
       "  </thead>\n",
       "  <tbody>\n",
       "    <tr>\n",
       "      <th>1980-03-17</th>\n",
       "      <td>0.1927</td>\n",
       "      <td>0.1958</td>\n",
       "      <td>0.1927</td>\n",
       "      <td>0.1927</td>\n",
       "      <td>10924800</td>\n",
       "    </tr>\n",
       "    <tr>\n",
       "      <th>1980-03-18</th>\n",
       "      <td>0.1927</td>\n",
       "      <td>0.1943</td>\n",
       "      <td>0.1912</td>\n",
       "      <td>0.1912</td>\n",
       "      <td>17068800</td>\n",
       "    </tr>\n",
       "    <tr>\n",
       "      <th>1980-03-19</th>\n",
       "      <td>0.1958</td>\n",
       "      <td>0.1989</td>\n",
       "      <td>0.1958</td>\n",
       "      <td>0.1958</td>\n",
       "      <td>18508800</td>\n",
       "    </tr>\n",
       "    <tr>\n",
       "      <th>1980-03-20</th>\n",
       "      <td>0.1958</td>\n",
       "      <td>0.1981</td>\n",
       "      <td>0.1950</td>\n",
       "      <td>0.1950</td>\n",
       "      <td>11174400</td>\n",
       "    </tr>\n",
       "    <tr>\n",
       "      <th>1980-03-21</th>\n",
       "      <td>0.1912</td>\n",
       "      <td>0.1912</td>\n",
       "      <td>0.1881</td>\n",
       "      <td>0.1881</td>\n",
       "      <td>12172800</td>\n",
       "    </tr>\n",
       "  </tbody>\n",
       "</table>\n",
       "</div>"
      ],
      "text/plain": [
       "              open    high     low   close    volume\n",
       "date                                                \n",
       "1980-03-17  0.1927  0.1958  0.1927  0.1927  10924800\n",
       "1980-03-18  0.1927  0.1943  0.1912  0.1912  17068800\n",
       "1980-03-19  0.1958  0.1989  0.1958  0.1958  18508800\n",
       "1980-03-20  0.1958  0.1981  0.1950  0.1950  11174400\n",
       "1980-03-21  0.1912  0.1912  0.1881  0.1881  12172800"
      ]
     },
     "execution_count": 3,
     "metadata": {},
     "output_type": "execute_result"
    }
   ],
   "source": [
    "INTEL.head()"
   ]
  },
  {
   "cell_type": "code",
   "execution_count": 5,
   "id": "0dcc9878",
   "metadata": {},
   "outputs": [
    {
     "data": {
      "text/html": [
       "<div>\n",
       "<style scoped>\n",
       "    .dataframe tbody tr th:only-of-type {\n",
       "        vertical-align: middle;\n",
       "    }\n",
       "\n",
       "    .dataframe tbody tr th {\n",
       "        vertical-align: top;\n",
       "    }\n",
       "\n",
       "    .dataframe thead th {\n",
       "        text-align: right;\n",
       "    }\n",
       "</style>\n",
       "<table border=\"1\" class=\"dataframe\">\n",
       "  <thead>\n",
       "    <tr style=\"text-align: right;\">\n",
       "      <th></th>\n",
       "      <th>open</th>\n",
       "      <th>high</th>\n",
       "      <th>low</th>\n",
       "      <th>close</th>\n",
       "      <th>volume</th>\n",
       "    </tr>\n",
       "    <tr>\n",
       "      <th>date</th>\n",
       "      <th></th>\n",
       "      <th></th>\n",
       "      <th></th>\n",
       "      <th></th>\n",
       "      <th></th>\n",
       "    </tr>\n",
       "  </thead>\n",
       "  <tbody>\n",
       "    <tr>\n",
       "      <th>2022-05-02</th>\n",
       "      <td>43.3651</td>\n",
       "      <td>44.6248</td>\n",
       "      <td>43.1568</td>\n",
       "      <td>44.5950</td>\n",
       "      <td>45319549</td>\n",
       "    </tr>\n",
       "    <tr>\n",
       "      <th>2022-05-03</th>\n",
       "      <td>44.4264</td>\n",
       "      <td>45.1207</td>\n",
       "      <td>43.8710</td>\n",
       "      <td>44.6942</td>\n",
       "      <td>40031392</td>\n",
       "    </tr>\n",
       "    <tr>\n",
       "      <th>2022-05-04</th>\n",
       "      <td>44.6942</td>\n",
       "      <td>46.2614</td>\n",
       "      <td>44.0495</td>\n",
       "      <td>46.1622</td>\n",
       "      <td>44463333</td>\n",
       "    </tr>\n",
       "    <tr>\n",
       "      <th>2022-05-05</th>\n",
       "      <td>45.6000</td>\n",
       "      <td>45.9100</td>\n",
       "      <td>44.1300</td>\n",
       "      <td>44.6000</td>\n",
       "      <td>52887744</td>\n",
       "    </tr>\n",
       "    <tr>\n",
       "      <th>2022-05-06</th>\n",
       "      <td>44.4900</td>\n",
       "      <td>45.1500</td>\n",
       "      <td>43.8400</td>\n",
       "      <td>44.3000</td>\n",
       "      <td>40525471</td>\n",
       "    </tr>\n",
       "  </tbody>\n",
       "</table>\n",
       "</div>"
      ],
      "text/plain": [
       "               open     high      low    close    volume\n",
       "date                                                    \n",
       "2022-05-02  43.3651  44.6248  43.1568  44.5950  45319549\n",
       "2022-05-03  44.4264  45.1207  43.8710  44.6942  40031392\n",
       "2022-05-04  44.6942  46.2614  44.0495  46.1622  44463333\n",
       "2022-05-05  45.6000  45.9100  44.1300  44.6000  52887744\n",
       "2022-05-06  44.4900  45.1500  43.8400  44.3000  40525471"
      ]
     },
     "execution_count": 5,
     "metadata": {},
     "output_type": "execute_result"
    }
   ],
   "source": [
    "INTEL.tail()\n"
   ]
  },
  {
   "cell_type": "markdown",
   "id": "cea6f283",
   "metadata": {},
   "source": [
    "### Simple Rate of Return "
   ]
  },
  {
   "cell_type": "markdown",
   "id": "ff75653e",
   "metadata": {},
   "source": [
    "Return\n",
    "$$\n",
    "\\frac{P_1 - P_0}{P_0} = \\frac{P_1}{P_0} - 1\n",
    "$$\n"
   ]
  },
  {
   "cell_type": "code",
   "execution_count": 6,
   "id": "cd4aa4da",
   "metadata": {},
   "outputs": [
    {
     "name": "stdout",
     "output_type": "stream",
     "text": [
      "date\n",
      "1980-03-17         NaN\n",
      "1980-03-18   -0.007784\n",
      "1980-03-19    0.024059\n",
      "1980-03-20   -0.004086\n",
      "1980-03-21   -0.035385\n",
      "                ...   \n",
      "2022-05-02    0.031427\n",
      "2022-05-03    0.002224\n",
      "2022-05-04    0.032845\n",
      "2022-05-05   -0.033842\n",
      "2022-05-06   -0.006726\n",
      "Name: simple_return, Length: 10627, dtype: float64\n"
     ]
    }
   ],
   "source": [
    "INTEL['simple_return'] = (INTEL['close']/ INTEL['close'].shift(1) - 1)\n",
    "print(INTEL['simple_return'])"
   ]
  },
  {
   "cell_type": "code",
   "execution_count": 7,
   "id": "07f1d2fd",
   "metadata": {},
   "outputs": [
    {
     "name": "stderr",
     "output_type": "stream",
     "text": [
      "C:\\ProgramData\\Anaconda3\\lib\\site-packages\\pandas\\plotting\\_matplotlib\\core.py:1192: UserWarning: FixedFormatter should only be used together with FixedLocator\n",
      "  ax.set_xticklabels(xticklabels)\n"
     ]
    },
    {
     "data": {
      "image/png": "[encoded data removed]",
      "text/plain": [
       "<Figure size 576x360 with 1 Axes>"
      ]
     },
     "metadata": {
      "needs_background": "light"
     },
     "output_type": "display_data"
    }
   ],
   "source": [
    "INTEL['simple_return'].plot(figsize=(8, 5))\n",
    "plt.show()"
   ]
  },
  {
   "cell_type": "code",
   "execution_count": 8,
   "id": "99fa0a8e",
   "metadata": {},
   "outputs": [
    {
     "data": {
      "text/plain": [
       "0.0008265108860337872"
      ]
     },
     "execution_count": 8,
     "metadata": {},
     "output_type": "execute_result"
    }
   ],
   "source": [
    "avg_returns_d = INTEL['simple_return'].mean()\n",
    "avg_returns_d"
   ]
  },
  {
   "cell_type": "code",
   "execution_count": 9,
   "id": "a92adba1",
   "metadata": {},
   "outputs": [
    {
     "data": {
      "text/plain": [
       "0.2066277215084468"
      ]
     },
     "execution_count": 9,
     "metadata": {},
     "output_type": "execute_result"
    }
   ],
   "source": [
    "avg_returns_a = INTEL['simple_return'].mean() * 250\n",
    "avg_returns_a"
   ]
  },
  {
   "cell_type": "code",
   "execution_count": 10,
   "id": "8f748606",
   "metadata": {},
   "outputs": [
    {
     "name": "stdout",
     "output_type": "stream",
     "text": [
      "20.663 %\n"
     ]
    }
   ],
   "source": [
    "print(str(round(avg_returns_a, 5) * 100) + ' %')"
   ]
  },
  {
   "cell_type": "code",
   "execution_count": null,
   "id": "9423d172",
   "metadata": {},
   "outputs": [],
   "source": []
  }
 ],
 "metadata": {
  "kernelspec": {
   "display_name": "Python 3",
   "language": "python",
   "name": "python3"
  },
  "language_info": {
   "codemirror_mode": {
    "name": "ipython",
    "version": 3
   },
   "file_extension": ".py",
   "mimetype": "text/x-python",
   "name": "python",
   "nbconvert_exporter": "python",
   "pygments_lexer": "ipython3",
   "version": "3.8.8"
  }
 },
 "nbformat": 4,
 "nbformat_minor": 5
}
