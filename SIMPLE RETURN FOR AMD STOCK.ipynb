{
 "cells": [
  {
   "cell_type": "code",
   "execution_count": 1,
   "id": "419c4f20",
   "metadata": {},
   "outputs": [],
   "source": [
    "import numpy as np\n",
    "import pandas as pd\n",
    "import matplotlib.pyplot as plt"
   ]
  },
  {
   "cell_type": "code",
   "execution_count": 2,
   "id": "b3f24c06",
   "metadata": {},
   "outputs": [],
   "source": [
    "AMD = pd.read_csv(\"C:/Users/Hmz/Downloads/archive (2)/AMD.csv\", index_col = 'date')"
   ]
  },
  {
   "cell_type": "code",
   "execution_count": 3,
   "id": "92ffb1ef",
   "metadata": {},
   "outputs": [
    {
     "data": {
      "text/html": [
       "<div>\n",
       "<style scoped>\n",
       "    .dataframe tbody tr th:only-of-type {\n",
       "        vertical-align: middle;\n",
       "    }\n",
       "\n",
       "    .dataframe tbody tr th {\n",
       "        vertical-align: top;\n",
       "    }\n",
       "\n",
       "    .dataframe thead th {\n",
       "        text-align: right;\n",
       "    }\n",
       "</style>\n",
       "<table border=\"1\" class=\"dataframe\">\n",
       "  <thead>\n",
       "    <tr style=\"text-align: right;\">\n",
       "      <th></th>\n",
       "      <th>open</th>\n",
       "      <th>high</th>\n",
       "      <th>low</th>\n",
       "      <th>close</th>\n",
       "      <th>volume</th>\n",
       "    </tr>\n",
       "    <tr>\n",
       "      <th>date</th>\n",
       "      <th></th>\n",
       "      <th></th>\n",
       "      <th></th>\n",
       "      <th></th>\n",
       "      <th></th>\n",
       "    </tr>\n",
       "  </thead>\n",
       "  <tbody>\n",
       "    <tr>\n",
       "      <th>1983-03-21</th>\n",
       "      <td>8.9675</td>\n",
       "      <td>9.0300</td>\n",
       "      <td>8.8101</td>\n",
       "      <td>8.9975</td>\n",
       "      <td>510800</td>\n",
       "    </tr>\n",
       "    <tr>\n",
       "      <th>1983-03-22</th>\n",
       "      <td>8.7176</td>\n",
       "      <td>8.9675</td>\n",
       "      <td>8.4977</td>\n",
       "      <td>8.4977</td>\n",
       "      <td>328000</td>\n",
       "    </tr>\n",
       "    <tr>\n",
       "      <th>1983-03-23</th>\n",
       "      <td>8.4977</td>\n",
       "      <td>8.8101</td>\n",
       "      <td>8.4677</td>\n",
       "      <td>8.7176</td>\n",
       "      <td>427200</td>\n",
       "    </tr>\n",
       "    <tr>\n",
       "      <th>1983-03-24</th>\n",
       "      <td>8.7176</td>\n",
       "      <td>8.7801</td>\n",
       "      <td>8.6551</td>\n",
       "      <td>8.7801</td>\n",
       "      <td>393200</td>\n",
       "    </tr>\n",
       "    <tr>\n",
       "      <th>1983-03-25</th>\n",
       "      <td>8.9051</td>\n",
       "      <td>9.0600</td>\n",
       "      <td>8.7476</td>\n",
       "      <td>8.8726</td>\n",
       "      <td>210400</td>\n",
       "    </tr>\n",
       "  </tbody>\n",
       "</table>\n",
       "</div>"
      ],
      "text/plain": [
       "              open    high     low   close  volume\n",
       "date                                              \n",
       "1983-03-21  8.9675  9.0300  8.8101  8.9975  510800\n",
       "1983-03-22  8.7176  8.9675  8.4977  8.4977  328000\n",
       "1983-03-23  8.4977  8.8101  8.4677  8.7176  427200\n",
       "1983-03-24  8.7176  8.7801  8.6551  8.7801  393200\n",
       "1983-03-25  8.9051  9.0600  8.7476  8.8726  210400"
      ]
     },
     "execution_count": 3,
     "metadata": {},
     "output_type": "execute_result"
    }
   ],
   "source": [
    "AMD.head()"
   ]
  },
  {
   "cell_type": "code",
   "execution_count": 4,
   "id": "ce39371f",
   "metadata": {},
   "outputs": [
    {
     "data": {
      "text/html": [
       "<div>\n",
       "<style scoped>\n",
       "    .dataframe tbody tr th:only-of-type {\n",
       "        vertical-align: middle;\n",
       "    }\n",
       "\n",
       "    .dataframe tbody tr th {\n",
       "        vertical-align: top;\n",
       "    }\n",
       "\n",
       "    .dataframe thead th {\n",
       "        text-align: right;\n",
       "    }\n",
       "</style>\n",
       "<table border=\"1\" class=\"dataframe\">\n",
       "  <thead>\n",
       "    <tr style=\"text-align: right;\">\n",
       "      <th></th>\n",
       "      <th>open</th>\n",
       "      <th>high</th>\n",
       "      <th>low</th>\n",
       "      <th>close</th>\n",
       "      <th>volume</th>\n",
       "    </tr>\n",
       "    <tr>\n",
       "      <th>date</th>\n",
       "      <th></th>\n",
       "      <th></th>\n",
       "      <th></th>\n",
       "      <th></th>\n",
       "      <th></th>\n",
       "    </tr>\n",
       "  </thead>\n",
       "  <tbody>\n",
       "    <tr>\n",
       "      <th>2022-05-02</th>\n",
       "      <td>85.655</td>\n",
       "      <td>90.37</td>\n",
       "      <td>85.3201</td>\n",
       "      <td>89.84</td>\n",
       "      <td>97448446</td>\n",
       "    </tr>\n",
       "    <tr>\n",
       "      <th>2022-05-03</th>\n",
       "      <td>89.850</td>\n",
       "      <td>92.21</td>\n",
       "      <td>89.0100</td>\n",
       "      <td>91.13</td>\n",
       "      <td>119221604</td>\n",
       "    </tr>\n",
       "    <tr>\n",
       "      <th>2022-05-04</th>\n",
       "      <td>98.180</td>\n",
       "      <td>99.69</td>\n",
       "      <td>91.7000</td>\n",
       "      <td>99.42</td>\n",
       "      <td>224892814</td>\n",
       "    </tr>\n",
       "    <tr>\n",
       "      <th>2022-05-05</th>\n",
       "      <td>97.650</td>\n",
       "      <td>97.84</td>\n",
       "      <td>92.1700</td>\n",
       "      <td>93.87</td>\n",
       "      <td>152778907</td>\n",
       "    </tr>\n",
       "    <tr>\n",
       "      <th>2022-05-06</th>\n",
       "      <td>94.340</td>\n",
       "      <td>98.18</td>\n",
       "      <td>92.6500</td>\n",
       "      <td>95.34</td>\n",
       "      <td>143407827</td>\n",
       "    </tr>\n",
       "  </tbody>\n",
       "</table>\n",
       "</div>"
      ],
      "text/plain": [
       "              open   high      low  close     volume\n",
       "date                                                \n",
       "2022-05-02  85.655  90.37  85.3201  89.84   97448446\n",
       "2022-05-03  89.850  92.21  89.0100  91.13  119221604\n",
       "2022-05-04  98.180  99.69  91.7000  99.42  224892814\n",
       "2022-05-05  97.650  97.84  92.1700  93.87  152778907\n",
       "2022-05-06  94.340  98.18  92.6500  95.34  143407827"
      ]
     },
     "execution_count": 4,
     "metadata": {},
     "output_type": "execute_result"
    }
   ],
   "source": [
    "AMD.tail()\n"
   ]
  },
  {
   "cell_type": "markdown",
   "id": "a8a50c8d",
   "metadata": {},
   "source": [
    "### Simple Rate of Return "
   ]
  },
  {
   "cell_type": "markdown",
   "id": "75f8d327",
   "metadata": {},
   "source": [
    "Return\n",
    "$$\n",
    "\\frac{P_1 - P_0}{P_0} = \\frac{P_1}{P_0} - 1\n",
    "$$\n"
   ]
  },
  {
   "cell_type": "code",
   "execution_count": 5,
   "id": "7fb5eba0",
   "metadata": {},
   "outputs": [
    {
     "name": "stdout",
     "output_type": "stream",
     "text": [
      "date\n",
      "1983-03-21         NaN\n",
      "1983-03-22   -0.055549\n",
      "1983-03-23    0.025878\n",
      "1983-03-24    0.007169\n",
      "1983-03-25    0.010535\n",
      "                ...   \n",
      "2022-05-02    0.050514\n",
      "2022-05-03    0.014359\n",
      "2022-05-04    0.090969\n",
      "2022-05-05   -0.055824\n",
      "2022-05-06    0.015660\n",
      "Name: simple_return, Length: 9866, dtype: float64\n"
     ]
    }
   ],
   "source": [
    "AMD['simple_return'] = (AMD['close']/ AMD['close'].shift(1) - 1)\n",
    "print(AMD['simple_return'])"
   ]
  },
  {
   "cell_type": "code",
   "execution_count": 6,
   "id": "4155ba3b",
   "metadata": {},
   "outputs": [
    {
     "name": "stderr",
     "output_type": "stream",
     "text": [
      "C:\\ProgramData\\Anaconda3\\lib\\site-packages\\pandas\\plotting\\_matplotlib\\core.py:1192: UserWarning: FixedFormatter should only be used together with FixedLocator\n",
      "  ax.set_xticklabels(xticklabels)\n"
     ]
    },
    {
     "data": {
      "image/png": "[encoded data removed]",
      "text/plain": [
       "<Figure size 576x360 with 1 Axes>"
      ]
     },
     "metadata": {
      "needs_background": "light"
     },
     "output_type": "display_data"
    }
   ],
   "source": [
    "AMD['simple_return'].plot(figsize=(8, 5))\n",
    "plt.show()"
   ]
  },
  {
   "cell_type": "code",
   "execution_count": 7,
   "id": "76ac6a95",
   "metadata": {},
   "outputs": [
    {
     "data": {
      "text/plain": [
       "0.000952733087316366"
      ]
     },
     "execution_count": 7,
     "metadata": {},
     "output_type": "execute_result"
    }
   ],
   "source": [
    "avg_returns_d = AMD['simple_return'].mean()\n",
    "avg_returns_d"
   ]
  },
  {
   "cell_type": "code",
   "execution_count": 8,
   "id": "f29f2bad",
   "metadata": {},
   "outputs": [
    {
     "data": {
      "text/plain": [
       "0.23818327182909152"
      ]
     },
     "execution_count": 8,
     "metadata": {},
     "output_type": "execute_result"
    }
   ],
   "source": [
    "avg_returns_a = AMD['simple_return'].mean() * 250\n",
    "avg_returns_a"
   ]
  },
  {
   "cell_type": "code",
   "execution_count": 9,
   "id": "181c62ab",
   "metadata": {},
   "outputs": [
    {
     "name": "stdout",
     "output_type": "stream",
     "text": [
      "23.818 %\n"
     ]
    }
   ],
   "source": [
    "print(str(round(avg_returns_a, 5) * 100) + ' %')"
   ]
  },
  {
   "cell_type": "code",
   "execution_count": null,
   "id": "5c060389",
   "metadata": {},
   "outputs": [],
   "source": []
  },
  {
   "cell_type": "code",
   "execution_count": null,
   "id": "855410df",
   "metadata": {},
   "outputs": [],
   "source": []
  },
  {
   "cell_type": "code",
   "execution_count": null,
   "id": "e2919858",
   "metadata": {},
   "outputs": [],
   "source": []
  }
 ],
 "metadata": {
  "kernelspec": {
   "display_name": "Python 3",
   "language": "python",
   "name": "python3"
  },
  "language_info": {
   "codemirror_mode": {
    "name": "ipython",
    "version": 3
   },
   "file_extension": ".py",
   "mimetype": "text/x-python",
   "name": "python",
   "nbconvert_exporter": "python",
   "pygments_lexer": "ipython3",
   "version": "3.8.8"
  }
 },
 "nbformat": 4,
 "nbformat_minor": 5
}
